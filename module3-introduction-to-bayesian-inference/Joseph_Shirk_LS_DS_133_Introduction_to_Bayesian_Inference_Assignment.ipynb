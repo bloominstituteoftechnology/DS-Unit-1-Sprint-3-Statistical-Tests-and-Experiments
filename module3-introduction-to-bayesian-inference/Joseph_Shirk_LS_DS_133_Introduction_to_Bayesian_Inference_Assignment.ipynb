{
  "nbformat": 4,
  "nbformat_minor": 0,
  "metadata": {
    "colab": {
      "name": "Joseph_Shirk_LS_DS_133_Introduction_to_Bayesian_Inference_Assignment.ipynb",
      "provenance": [],
      "collapsed_sections": [],
      "include_colab_link": true
    },
    "kernelspec": {
      "name": "python3",
      "display_name": "Python 3"
    }
  },
  "cells": [
    {
      "cell_type": "markdown",
      "metadata": {
        "id": "view-in-github",
        "colab_type": "text"
      },
      "source": [
        "<a href=\"https://colab.research.google.com/github/jbshirk/DS-Unit-1-Sprint-3-Statistical-Tests-and-Experiments/blob/master/module3-introduction-to-bayesian-inference/Joseph_Shirk_LS_DS_133_Introduction_to_Bayesian_Inference_Assignment.ipynb\" target=\"_parent\"><img src=\"https://colab.research.google.com/assets/colab-badge.svg\" alt=\"Open In Colab\"/></a>"
      ]
    },
    {
      "cell_type": "markdown",
      "metadata": {
        "id": "l9gRdFzU836s",
        "colab_type": "text"
      },
      "source": [
        "### Save to: \n",
        "DS-Unit-1-Sprint-3-Statistical-Tests-and-Experiments\n",
        "\n",
        "> module3-introduction-to-bayesian-inference/"
      ]
    },
    {
      "cell_type": "markdown",
      "metadata": {
        "id": "H7OLbevlbd_Z",
        "colab_type": "text"
      },
      "source": [
        "# Lambda School Data Science Module 133\n",
        "\n",
        "## Introduction to Bayesian Inference\n",
        "\n",
        "\n"
      ]
    },
    {
      "cell_type": "markdown",
      "metadata": {
        "id": "P-DzzRk5bf0z",
        "colab_type": "text"
      },
      "source": [
        "## Assignment - Code it up!\n",
        "\n",
        "Most of the above was pure math - now write Python code to reproduce the results! This is purposefully open ended - you'll have to think about how you should represent probabilities and events. You can and should look things up, and as a stretch goal - refactor your code into helpful reusable functions!\n",
        "\n",
        "Specific goals/targets:\n",
        "\n",
        "1. Write a function `def prob_drunk_given_positive(prob_drunk_prior, prob_positive, prob_positive_drunk)` that reproduces the example from lecture, and use it to calculate and visualize a range of situations\n",
        "2. Explore `scipy.stats.bayes_mvs` - read its documentation, and experiment with it on data you've tested in other ways earlier this week\n",
        "3. Create a visualization comparing the results of a Bayesian approach to a traditional/frequentist approach\n",
        "4. In your own words, summarize the difference between Bayesian and Frequentist statistics\n",
        "\n",
        "If you're unsure where to start, check out [this blog post of Bayes theorem with Python](https://dataconomy.com/2015/02/introduction-to-bayes-theorem-with-python/) - you could and should create something similar!\n",
        "\n",
        "Stretch goals:\n",
        "\n",
        "- Apply a Bayesian technique to a problem you previously worked (in an assignment or project work) on from a frequentist (standard) perspective\n",
        "- Check out [PyMC3](https://docs.pymc.io/) (note this goes beyond hypothesis tests into modeling) - read the guides and work through some examples\n",
        "- Take PyMC3 further - see if you can build something with it!"
      ]
    },
    {
      "cell_type": "code",
      "metadata": {
        "id": "xpVhZyUnbf7o",
        "colab_type": "code",
        "colab": {}
      },
      "source": [
        "import pandas as pd\n",
        "import numpy as np\n",
        "from sklearn import datasets"
      ],
      "execution_count": 0,
      "outputs": []
    },
    {
      "cell_type": "code",
      "metadata": {
        "id": "f-7qMAO4FbkS",
        "colab_type": "code",
        "colab": {}
      },
      "source": [
        " memo = {0:0, 1:1}\n",
        "\n",
        " def prob_drunk_given_positive(   # P(A|+)\n",
        "      prob_drunk_prior = 0.001,    # P(B)\n",
        "      prob_positive = 0.08,        # P(+|!A) #false positive\n",
        "      prob_positive_drunk = 1.0,   # P(+|A)\n",
        "      repeat_test = 3\n",
        "     ):\n",
        "     print(f'func called with P(B): {prob_drunk_prior},tests to do: {repeat_test}')\n",
        "\n",
        "     if repeat_test == 0: return 'No test!'\n",
        "     if repeat_test == 1: return prob_drunk_prior\n",
        "     \n",
        "     else:\n",
        "     # P(+) = max( P(+|!A) , P(+|A) ) # always 1 in this example\n",
        "     # P(A|+) =  P(+|A) * P(A) / P(+)\n",
        "\n",
        "      #print(f'intermediate:: P(B): {prob_drunk_prior}, test: {repeat_test}')\n",
        "      \n",
        "      P_B = prob_positive_drunk * prob_drunk_prior / prob_positive\n",
        "      if P_B > 1:         \n",
        "        return memo[1]\n",
        "      else:\n",
        "        memo[0] = memo[1] \n",
        "        memo[1] = P_B\n",
        "\n",
        "        return prob_drunk_given_positive(\n",
        "              P_B, \n",
        "              prob_positive, \n",
        "              prob_positive_drunk, \n",
        "              repeat_test -1 )\n",
        "     "
      ],
      "execution_count": 0,
      "outputs": []
    },
    {
      "cell_type": "code",
      "metadata": {
        "id": "rbfvWfOpiKSU",
        "colab_type": "code",
        "outputId": "d7e77adc-2cd0-46f7-e2de-6e61b757cf55",
        "colab": {
          "base_uri": "https://localhost:8080/",
          "height": 88
        }
      },
      "source": [
        "print(f'final likelihood after repeating: {prob_drunk_given_positive(repeat_test = 4)}')"
      ],
      "execution_count": 15,
      "outputs": [
        {
          "output_type": "stream",
          "text": [
            "func called with P(B): 0.001,tests to do: 4\n",
            "func called with P(B): 0.0125,tests to do: 3\n",
            "func called with P(B): 0.15625,tests to do: 2\n",
            "final liklihood after repeating: 0.15625\n"
          ],
          "name": "stdout"
        }
      ]
    },
    {
      "cell_type": "code",
      "metadata": {
        "id": "mhBuLOcTxLY4",
        "colab_type": "code",
        "colab": {}
      },
      "source": [
        "# Alex's version\n",
        "def bayes_theorem(prior, false_neg, false_pos, num_iter):\n",
        "  posterior_list = []\n",
        "  posterior = prior\n",
        "  for i in range(num_iter):\n",
        "    posterior = (1-false_neg)*posterior/((1-false_neg)*posterior + false_pos*(1-posterior))\n",
        "    posterior_list.append(posterior)\n",
        "  return posterior_list\n",
        "\n",
        "bayes_theorem(0.005, 0.01, 0.01, 15)\n",
        "> [0.33221476510067116,\n",
        " 0.9801000000000001,\n",
        " 0.9997949506335922,\n",
        " 0.9999979283737839,\n",
        " 0.9999999790744397,\n",
        " 0.9999999997886307,\n",
        " 0.999999999997865,\n",
        " 0.9999999999999785,\n",
        " 0.9999999999999998,\n",
        " 1.0,\n",
        " 1.0,\n",
        " 1.0,\n",
        " 1.0,\n",
        " 1.0,\n",
        " 1.0]"
      ],
      "execution_count": 0,
      "outputs": []
    },
    {
      "cell_type": "markdown",
      "metadata": {
        "id": "uWgWjp3PQ3Sq",
        "colab_type": "text"
      },
      "source": [
        "## Resources"
      ]
    },
    {
      "cell_type": "markdown",
      "metadata": {
        "id": "QRgHqmYIQ9qn",
        "colab_type": "text"
      },
      "source": [
        "- [Worked example of Bayes rule calculation](https://en.wikipedia.org/wiki/Bayes'_theorem#Examples) (helpful as it fully breaks out the denominator)\n",
        "- [Source code for mvsdist in scipy](https://github.com/scipy/scipy/blob/90534919e139d2a81c24bf08341734ff41a3db12/scipy/stats/morestats.py#L139)"
      ]
    }
  ]
}